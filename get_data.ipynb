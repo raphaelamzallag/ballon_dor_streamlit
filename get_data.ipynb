{
 "cells": [
  {
   "cell_type": "code",
   "execution_count": 14,
   "metadata": {},
   "outputs": [],
   "source": [
    "import pandas as pd\n",
    "import requests"
   ]
  },
  {
   "cell_type": "code",
   "execution_count": 161,
   "metadata": {},
   "outputs": [],
   "source": [
    "# List to hold each row of data\n",
    "data_rows = []\n",
    "\n",
    "players = {\n",
    "    \"Jude Bellingham\": \"129718\",\n",
    "\n",
    "    \"Erling Haaland\": \"1100\",\n",
    "\n",
    "    \"Harry Kane\": \"184\",\n",
    "\n",
    "    \"Kylian Mbappé\": \"278\",\n",
    "\n",
    "  #  \"Rodri\": \"\",\n",
    "\n",
    "    \"Vinícius Jr.\": \"762\"\n",
    "\n",
    "}\n",
    "for player in players:\n",
    "\n",
    "    url = \"https://api-football-v1.p.rapidapi.com/v3/players\"\n",
    "\n",
    "    querystring = {\"id\":players[player],\"season\":\"2023\"}\n",
    "\n",
    "    headers = {\n",
    "        \"x-rapidapi-key\": #API_KEY, on RapidAPI for API-FOOTBALL\n",
    "        \"x-rapidapi-host\": \"api-football-v1.p.rapidapi.com\"\n",
    "    }\n",
    "\n",
    "    response = requests.get(url, headers=headers, params=querystring)\n",
    "\n",
    "    # Iterate through each competition in the statistics list\n",
    "    player_name = player\n",
    "    for stats in response.json()['response'][0]['statistics']:\n",
    "        competition_data = {\n",
    "            \"Name\": player_name,\n",
    "            \"Competition\": stats['league']['name'],\n",
    "            \"Team\": stats['team']['name'],\n",
    "            \"Appearances\": stats['games']['appearences'],\n",
    "            \"Lineups\": stats['games']['lineups'],\n",
    "            \"Minutes\": stats['games']['minutes'],\n",
    "            \"Goals\": stats['goals']['total'],\n",
    "            \"Assists\": stats['goals']['assists'],\n",
    "            \"Shots Total\": stats['shots']['total'],\n",
    "            \"Shots On\": stats['shots']['on'],\n",
    "            \"Passes Total\": stats['passes']['total'],\n",
    "            \"Key Passes\": stats['passes']['key'],\n",
    "            \"Pass Accuracy\": stats['passes']['accuracy'],\n",
    "            \"Duels Total\": stats['duels']['total'],\n",
    "            \"Duels Won\": stats['duels']['won'],\n",
    "            \"Dribbles Attempts\": stats['dribbles']['attempts'],\n",
    "            \"Dribbles Success\": stats['dribbles']['success'],\n",
    "            \"Fouls Drawn\": stats['fouls']['drawn'],\n",
    "            \"Fouls Committed\": stats['fouls']['committed'],\n",
    "            \"Yellow Cards\": stats['cards']['yellow'],\n",
    "            \"Red Cards\": stats['cards']['red'],\n",
    "            \"Penalties Scored\": stats['penalty']['scored'],\n",
    "            \"Penalties Missed\": stats['penalty']['missed']\n",
    "        }\n",
    "        # Append the data for this competition to the list\n",
    "        data_rows.append(competition_data)\n",
    "\n",
    "# Create a DataFrame from the list of data rows\n",
    "df = pd.DataFrame(data_rows)"
   ]
  },
  {
   "cell_type": "code",
   "execution_count": 163,
   "metadata": {},
   "outputs": [],
   "source": [
    "df.to_csv('player_stats.csv', index=False)"
   ]
  }
 ],
 "metadata": {
  "kernelspec": {
   "display_name": "ballondor_streamlit",
   "language": "python",
   "name": "python3"
  },
  "language_info": {
   "codemirror_mode": {
    "name": "ipython",
    "version": 3
   },
   "file_extension": ".py",
   "mimetype": "text/x-python",
   "name": "python",
   "nbconvert_exporter": "python",
   "pygments_lexer": "ipython3",
   "version": "3.10.6"
  }
 },
 "nbformat": 4,
 "nbformat_minor": 2
}
